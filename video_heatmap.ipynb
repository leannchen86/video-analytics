{
 "cells": [
  {
   "cell_type": "code",
   "execution_count": 1,
   "id": "196ab5ab",
   "metadata": {},
   "outputs": [],
   "source": [
    "from bs4 import BeautifulSoup\n",
    "from selenium import webdriver\n",
    "from selenium.webdriver.support.ui import WebDriverWait\n",
    "import pandas as pd\n",
    "import requests\n",
    "import json\n",
    "import numpy as np\n",
    "import time\n",
    "from selenium.webdriver.common.keys import Keys"
   ]
  },
  {
   "cell_type": "code",
   "execution_count": 2,
   "id": "e7917ded",
   "metadata": {},
   "outputs": [],
   "source": [
    "URL = \"www.video_url.com\""
   ]
  },
  {
   "cell_type": "code",
   "execution_count": null,
   "id": "e40f1659",
   "metadata": {},
   "outputs": [],
   "source": [
    "driver = webdriver.Chrome(executable_path=r\"D:\\\\chromedriver.exe\")"
   ]
  },
  {
   "cell_type": "code",
   "execution_count": 4,
   "id": "f49c9867",
   "metadata": {},
   "outputs": [],
   "source": [
    "driver.get(URL)"
   ]
  },
  {
   "cell_type": "code",
   "execution_count": null,
   "id": "2d8adbae",
   "metadata": {},
   "outputs": [],
   "source": [
    "User = driver.find_element_by_id(\"user_email\")\n",
    "User.send_keys('account_name')\n",
    "PW = driver.find_element_by_id(\"user_password\")\n",
    "PW.send_keys('password')\n",
    "button = driver.find_element_by_name('commit')\n",
    "button.click()"
   ]
  },
  {
   "cell_type": "code",
   "execution_count": 6,
   "id": "f577ee9c",
   "metadata": {},
   "outputs": [],
   "source": [
    "driver.maximize_window()\n",
    "driver.execute_script(\"window.scrollTo(0, document.body.scrollHeight);\")"
   ]
  },
  {
   "cell_type": "code",
   "execution_count": 25,
   "id": "31bcf885",
   "metadata": {},
   "outputs": [
    {
     "data": {
      "text/plain": [
       "203"
      ]
     },
     "execution_count": 25,
     "metadata": {},
     "output_type": "execute_result"
    }
   ],
   "source": [
    "load_btn = driver.find_element_by_id('media_stats_load_more')\n",
    "count = 0 \n",
    "while True:\n",
    "    time.sleep(3)\n",
    "    if load_btn.is_displayed() and load_btn.is_enabled():\n",
    "        load_btn.click()\n",
    "        count+= 1\n",
    "        continue\n",
    "    else:\n",
    "        print('Load More Ends!')\n",
    "        break\n",
    "count"
   ]
  },
  {
   "cell_type": "code",
   "execution_count": 26,
   "id": "dd33c44c",
   "metadata": {},
   "outputs": [],
   "source": [
    "page_source = driver.page_source"
   ]
  },
  {
   "cell_type": "code",
   "execution_count": 27,
   "id": "64411183",
   "metadata": {},
   "outputs": [],
   "source": [
    "soup = BeautifulSoup(page_source, 'html.parser')"
   ]
  },
  {
   "cell_type": "code",
   "execution_count": 48,
   "id": "748ae5b0",
   "metadata": {},
   "outputs": [],
   "source": [
    "df_viewerdemo = pd.DataFrame(columns=['City', 'State', 'Country', 'Device', 'OS', 'Browser', 'Day', 'Local Time', 'PecentViewed','IP', 'Heatmap', 'ID'])"
   ]
  },
  {
   "cell_type": "code",
   "execution_count": 53,
   "id": "96307179",
   "metadata": {},
   "outputs": [],
   "source": [
    "df_viewerdemo1 = pd.DataFrame(columns=['City', 'State', 'Country', 'Device', 'OS', 'Browser', 'Day', 'Local Time', 'PecentViewed','IP', 'Heatmap', 'ID'])"
   ]
  },
  {
   "cell_type": "code",
   "execution_count": 68,
   "id": "4d9bece2",
   "metadata": {},
   "outputs": [
    {
     "data": {
      "text/plain": [
       "('2022-04-27', '03:53:47', 'stat-event-ERsjrHrIxOWHQ7y47E_YlQ')"
      ]
     },
     "execution_count": 68,
     "metadata": {},
     "output_type": "execute_result"
    }
   ],
   "source": [
    "def datetime(i):\n",
    "    datetime = viewer_info[i].find('time')['datetime'].strip('Z').split('T')\n",
    "    ID = viewer_info[i].get('id')\n",
    "    Day = datetime[0]\n",
    "    Time = datetime[1]\n",
    "    return Day, Time, ID"
   ]
  },
  {
   "cell_type": "code",
   "execution_count": 82,
   "id": "87c49b86",
   "metadata": {},
   "outputs": [],
   "source": [
    "def media(i):\n",
    "    media = viewer_info[i].find('div', class_='media-body stat-detail').text.strip('   https://www.saenchaimuaythai.com/\\n').split()\n",
    "    if len(media) > 1:\n",
    "        Device = media[0]\n",
    "        OS = media[2]\n",
    "        Browser = media[4] + media[5] if media[4][0] == 'I' else media[4]\n",
    "        IP = media[6] if media[4][0] == 'I' else media[5]\n",
    "        return Device, OS, Browser, IP\n",
    "    else:\n",
    "        IP = media[0]\n",
    "        return '', '', '', IP"
   ]
  },
  {
   "cell_type": "code",
   "execution_count": 83,
   "id": "661202a0",
   "metadata": {},
   "outputs": [],
   "source": [
    "def location(i):\n",
    "    location = viewer_info[i].find('div', class_=\"media-event-location media-body media-middle\").text.strip().split(',')\n",
    "    City = location[0]\n",
    "    State = location[1]\n",
    "    Country = location[2]\n",
    "    return City, State, Country"
   ]
  },
  {
   "cell_type": "code",
   "execution_count": 2,
   "id": "a3bb81ca",
   "metadata": {},
   "outputs": [],
   "source": [
    "def heatmap(i):\n",
    "    Heatmap_url = viewer_info[i].find('iframe')['src']\n",
    "    r = requests.get(Heatmap_url)\n",
    "    soup = BeautifulSoup(r.content, 'html5lib')\n",
    "    htmap = soup.find_all('script')[4]\n",
    "    timelineData = htmap.string.strip().split()[-1].rstrip(');')\n",
    "    heatmap_dict = json.loads(timelineData)\n",
    "    PecentViewed = heatmap_dict['percentViewed']  \n",
    "    return Heatmap_url, PecentViewed, heatmap_dict"
   ]
  },
  {
   "cell_type": "code",
   "execution_count": 4,
   "id": "253513ae",
   "metadata": {},
   "outputs": [],
   "source": [
    "df = pd.read_excel('Demographic.xlsx')"
   ]
  },
  {
   "cell_type": "code",
   "execution_count": 3,
   "id": "0775ed0c",
   "metadata": {},
   "outputs": [],
   "source": [
    "def heatmap_data(i):\n",
    "    Heatmap_url = df['Heatmap'][i]\n",
    "    r = requests.get(Heatmap_url)\n",
    "    soup = BeautifulSoup(r.content, 'html5lib')\n",
    "    htmap = soup.find_all('script')[4]\n",
    "    timelineData = htmap.string.strip().split()[-1].rstrip(');')\n",
    "    heatmap_dict = json.loads(timelineData)\n",
    "    timestamp = heatmap_dict['timelineData']\n",
    "    return timestamp\n"
   ]
  },
  {
   "cell_type": "code",
   "execution_count": null,
   "id": "c257f483",
   "metadata": {},
   "outputs": [],
   "source": [
    "lst = []\n",
    "for url in range(0, len(df['Heatmap'])):\n",
    "    timedata = heatmap_data(url)\n",
    "    for i in range(1, len(timedata)-1, 2):\n",
    "        items = [timedata[i][0],timedata[i+1][0], timedata[i][1]]\n",
    "        lst.append(items)"
   ]
  },
  {
   "cell_type": "code",
   "execution_count": 14,
   "id": "85b03182",
   "metadata": {},
   "outputs": [
    {
     "data": {
      "text/html": [
       "<div>\n",
       "<style scoped>\n",
       "    .dataframe tbody tr th:only-of-type {\n",
       "        vertical-align: middle;\n",
       "    }\n",
       "\n",
       "    .dataframe tbody tr th {\n",
       "        vertical-align: top;\n",
       "    }\n",
       "\n",
       "    .dataframe thead th {\n",
       "        text-align: right;\n",
       "    }\n",
       "</style>\n",
       "<table border=\"1\" class=\"dataframe\">\n",
       "  <thead>\n",
       "    <tr style=\"text-align: right;\">\n",
       "      <th></th>\n",
       "      <th>Start</th>\n",
       "      <th>End</th>\n",
       "      <th>Re-played</th>\n",
       "    </tr>\n",
       "  </thead>\n",
       "  <tbody>\n",
       "    <tr>\n",
       "      <th>0</th>\n",
       "      <td>0.000</td>\n",
       "      <td>6.234</td>\n",
       "      <td>2</td>\n",
       "    </tr>\n",
       "    <tr>\n",
       "      <th>1</th>\n",
       "      <td>6.234</td>\n",
       "      <td>42.900</td>\n",
       "      <td>1</td>\n",
       "    </tr>\n",
       "    <tr>\n",
       "      <th>2</th>\n",
       "      <td>42.900</td>\n",
       "      <td>58.054</td>\n",
       "      <td>2</td>\n",
       "    </tr>\n",
       "    <tr>\n",
       "      <th>3</th>\n",
       "      <td>58.054</td>\n",
       "      <td>192.000</td>\n",
       "      <td>1</td>\n",
       "    </tr>\n",
       "    <tr>\n",
       "      <th>4</th>\n",
       "      <td>192.000</td>\n",
       "      <td>192.198</td>\n",
       "      <td>2</td>\n",
       "    </tr>\n",
       "    <tr>\n",
       "      <th>...</th>\n",
       "      <td>...</td>\n",
       "      <td>...</td>\n",
       "      <td>...</td>\n",
       "    </tr>\n",
       "    <tr>\n",
       "      <th>9882</th>\n",
       "      <td>610.600</td>\n",
       "      <td>610.660</td>\n",
       "      <td>1</td>\n",
       "    </tr>\n",
       "    <tr>\n",
       "      <th>9883</th>\n",
       "      <td>610.660</td>\n",
       "      <td>617.600</td>\n",
       "      <td>0</td>\n",
       "    </tr>\n",
       "    <tr>\n",
       "      <th>9884</th>\n",
       "      <td>617.600</td>\n",
       "      <td>619.325</td>\n",
       "      <td>1</td>\n",
       "    </tr>\n",
       "    <tr>\n",
       "      <th>9885</th>\n",
       "      <td>0.100</td>\n",
       "      <td>255.529</td>\n",
       "      <td>1</td>\n",
       "    </tr>\n",
       "    <tr>\n",
       "      <th>9886</th>\n",
       "      <td>0.000</td>\n",
       "      <td>15.250</td>\n",
       "      <td>1</td>\n",
       "    </tr>\n",
       "  </tbody>\n",
       "</table>\n",
       "<p>9887 rows × 3 columns</p>\n",
       "</div>"
      ],
      "text/plain": [
       "        Start      End  Re-played\n",
       "0       0.000    6.234          2\n",
       "1       6.234   42.900          1\n",
       "2      42.900   58.054          2\n",
       "3      58.054  192.000          1\n",
       "4     192.000  192.198          2\n",
       "...       ...      ...        ...\n",
       "9882  610.600  610.660          1\n",
       "9883  610.660  617.600          0\n",
       "9884  617.600  619.325          1\n",
       "9885    0.100  255.529          1\n",
       "9886    0.000   15.250          1\n",
       "\n",
       "[9887 rows x 3 columns]"
      ]
     },
     "execution_count": 14,
     "metadata": {},
     "output_type": "execute_result"
    }
   ],
   "source": [
    "df_heatmap = pd.DataFrame(lst)\n",
    "df_heatmap.columns = ['Start', 'End', 'Re-played']\n",
    "df_heatmap"
   ]
  },
  {
   "cell_type": "code",
   "execution_count": 4,
   "id": "c362f8d8",
   "metadata": {},
   "outputs": [],
   "source": [
    "replayed = pd.read_excel('replayed.xlsx')"
   ]
  },
  {
   "cell_type": "code",
   "execution_count": null,
   "id": "55340e9a",
   "metadata": {},
   "outputs": [],
   "source": [
    "viewer demographic\n",
    "viewer_info = soup.find_all('div', class_='media-event')\n",
    "\n",
    "for i in range(758, len(viewer_info)):\n",
    "    City = location(i)[0]\n",
    "    State = location(i)[1]\n",
    "    Country = location(i)[2]\n",
    "    Device = media(i)[0]\n",
    "    OS = media(i)[1]\n",
    "    Browser = media(i)[2]\n",
    "    IP = media(i)[3]\n",
    "    Day = datetime(i)[0]\n",
    "    Time = datetime(i)[1]\n",
    "    ID = datetime(i)[2]\n",
    "    Heatmap_url = heatmap(i)[0]\n",
    "    PecentViewed = heatmap(i)[1]\n",
    "    df_viewerdemo1.loc[i+1] = [City, State, Country, Device, OS, Browser, Day, Time, PecentViewed, IP, Heatmap_url, ID]\n",
    "    "
   ]
  },
  {
   "cell_type": "code",
   "execution_count": 51,
   "id": "b8b7d8bc",
   "metadata": {},
   "outputs": [],
   "source": [
    "df_viewerdemo.to_excel('Demographic.xlsx')"
   ]
  },
  {
   "cell_type": "code",
   "execution_count": 20,
   "id": "9008b70b",
   "metadata": {},
   "outputs": [],
   "source": [
    "#close everything\n",
    "drive.quit()"
   ]
  }
 ],
 "metadata": {
  "kernelspec": {
   "display_name": "Python 3 (ipykernel)",
   "language": "python",
   "name": "python3"
  },
  "language_info": {
   "codemirror_mode": {
    "name": "ipython",
    "version": 3
   },
   "file_extension": ".py",
   "mimetype": "text/x-python",
   "name": "python",
   "nbconvert_exporter": "python",
   "pygments_lexer": "ipython3",
   "version": "3.9.9"
  }
 },
 "nbformat": 4,
 "nbformat_minor": 5
}
